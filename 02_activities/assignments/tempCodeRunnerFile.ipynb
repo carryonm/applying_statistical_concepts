# Your code here ...
from sklearn import set_config
set_config(transform_output="pandas")
numeric_predictors = feature_names.tolist() 

# Check the length of numeric_predictors and lm.coef_
print("Number of predictors:", len(numeric_predictors))
print("Number of coefficients:", len(lm.coef_))